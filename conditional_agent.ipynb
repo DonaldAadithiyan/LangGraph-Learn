{
 "cells": [
  {
   "cell_type": "code",
   "execution_count": 5,
   "id": "623e8c66",
   "metadata": {},
   "outputs": [],
   "source": [
    "from typing import Dict, TypedDict, List\n",
    "from langgraph.graph import StateGraph, START, END\n",
    "from IPython.display import display, Image"
   ]
  },
  {
   "cell_type": "code",
   "execution_count": 2,
   "id": "3bc82b7e",
   "metadata": {},
   "outputs": [],
   "source": [
    "class AgentState(TypedDict):\n",
    "    number1: int\n",
    "    operation : str\n",
    "    number2: int\n",
    "    finalNumber: int"
   ]
  },
  {
   "cell_type": "code",
   "execution_count": 9,
   "id": "a50262f6",
   "metadata": {},
   "outputs": [],
   "source": [
    "def adder (state: AgentState) -> AgentState:\n",
    "    \"\"\"Adds two numbers in the state.\"\"\"\n",
    "    state['finalNumber'] = state['number1'] + state['number2']\n",
    "    return state\n",
    "\n",
    "def subtractor (state: AgentState) -> AgentState:\n",
    "    \"\"\"Subtracts two numbers in the state.\"\"\"\n",
    "    state['finalNumber'] = state['number1'] - state['number2']\n",
    "    return state\n",
    "\n",
    "def deceide_next_node(state: AgentState) -> str:\n",
    "    \"\"\"Decides the next node based on the operation.\"\"\"\n",
    "    if state['operation'] == 'add':\n",
    "        return 'adder_node'\n",
    "    elif state['operation'] == 'subtract':\n",
    "        return 'subtractor_node'\n",
    "    else:\n",
    "        raise ValueError(\"Unknown operation\")"
   ]
  },
  {
   "cell_type": "code",
   "execution_count": 13,
   "id": "2fbd251f",
   "metadata": {},
   "outputs": [],
   "source": [
    "graph = StateGraph(AgentState)\n",
    "graph.add_node(\"adder_node\", adder)\n",
    "graph.add_node(\"subtractor_node\", subtractor)\n",
    "graph.add_node(\"router\", lambda state:state)\n",
    "\n",
    "graph.add_edge(START, \"router\")\n",
    "\n",
    "graph.add_conditional_edges(\n",
    "    \"router\",\n",
    "    deceide_next_node,\n",
    "    {\n",
    "        \"adder_node\": \"adder_node\",\n",
    "        \"subtractor_node\": \"subtractor_node\"\n",
    "    }\n",
    ")\n",
    "\n",
    "graph.add_edge(\"adder_node\", END)\n",
    "graph.add_edge(\"subtractor_node\", END)\n",
    "\n",
    "app= graph.compile()\n"
   ]
  },
  {
   "cell_type": "code",
   "execution_count": 14,
   "id": "d34bcf44",
   "metadata": {},
   "outputs": [
    {
     "data": {
      "image/png": "[encoded data removed]",
      "text/plain": [
       "<IPython.core.display.Image object>"
      ]
     },
     "metadata": {},
     "output_type": "display_data"
    }
   ],
   "source": [
    "display(Image(app.get_graph().draw_mermaid_png()))"
   ]
  },
  {
   "cell_type": "code",
   "execution_count": 17,
   "id": "7a6490bc",
   "metadata": {},
   "outputs": [],
   "source": [
    "initial_state = AgentState(\n",
    "    number1=10,\n",
    "    operation='add',\n",
    "    number2=5,)\n",
    "result = app.invoke(initial_state)"
   ]
  },
  {
   "cell_type": "code",
   "execution_count": 18,
   "id": "f588b945",
   "metadata": {},
   "outputs": [
    {
     "data": {
      "text/plain": [
       "{'number1': 10, 'operation': 'add', 'number2': 5, 'finalNumber': 15}"
      ]
     },
     "execution_count": 18,
     "metadata": {},
     "output_type": "execute_result"
    }
   ],
   "source": [
    "result"
   ]
  }
 ],
 "metadata": {
  "kernelspec": {
   "display_name": "venv",
   "language": "python",
   "name": "python3"
  },
  "language_info": {
   "codemirror_mode": {
    "name": "ipython",
    "version": 3
   },
   "file_extension": ".py",
   "mimetype": "text/x-python",
   "name": "python",
   "nbconvert_exporter": "python",
   "pygments_lexer": "ipython3",
   "version": "3.11.13"
  }
 },
 "nbformat": 4,
 "nbformat_minor": 5
}
